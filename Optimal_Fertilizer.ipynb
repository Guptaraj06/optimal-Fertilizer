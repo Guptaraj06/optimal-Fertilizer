{
  "metadata": {
    "kernelspec": {
      "name": "python3",
      "display_name": "Python 3",
      "language": "python"
    },
    "language_info": {
      "name": "python",
      "version": "3.11.13",
      "mimetype": "text/x-python",
      "codemirror_mode": {
        "name": "ipython",
        "version": 3
      },
      "pygments_lexer": "ipython3",
      "nbconvert_exporter": "python",
      "file_extension": ".py"
    },
    "accelerator": "GPU",
    "colab": {
      "gpuType": "T4",
      "provenance": [],
      "name": "Optimal Fertilizer",
      "include_colab_link": true
    },
    "kaggle": {
      "accelerator": "gpu",
      "dataSources": [
        {
          "sourceId": 91717,
          "databundleVersionId": 12184666,
          "sourceType": "competition"
        },
        {
          "sourceId": 11592231,
          "sourceType": "datasetVersion",
          "datasetId": 7269189
        }
      ],
      "dockerImageVersionId": 31090,
      "isInternetEnabled": true,
      "language": "python",
      "sourceType": "notebook",
      "isGpuEnabled": true
    }
  },
  "nbformat_minor": 0,
  "nbformat": 4,
  "cells": [
    {
      "cell_type": "markdown",
      "metadata": {
        "id": "view-in-github",
        "colab_type": "text"
      },
      "source": [
        "<a href=\"https://colab.research.google.com/github/Guptaraj06/optimal-Fertilizer/blob/main/Optimal_Fertilizer.ipynb\" target=\"_parent\"><img src=\"https://colab.research.google.com/assets/colab-badge.svg\" alt=\"Open In Colab\"/></a>"
      ]
    },
    {
      "source": [
        "# IMPORTANT: SOME KAGGLE DATA SOURCES ARE PRIVATE\n",
        "# RUN THIS CELL IN ORDER TO IMPORT YOUR KAGGLE DATA SOURCES.\n",
        "import kagglehub\n",
        "kagglehub.login()\n"
      ],
      "metadata": {
        "id": "Ev_wMB_1JTVt"
      },
      "cell_type": "code",
      "outputs": [],
      "execution_count": null
    },
    {
      "source": [
        "# IMPORTANT: RUN THIS CELL IN ORDER TO IMPORT YOUR KAGGLE DATA SOURCES,\n",
        "# THEN FEEL FREE TO DELETE THIS CELL.\n",
        "# NOTE: THIS NOTEBOOK ENVIRONMENT DIFFERS FROM KAGGLE'S PYTHON\n",
        "# ENVIRONMENT SO THERE MAY BE MISSING LIBRARIES USED BY YOUR\n",
        "# NOTEBOOK.\n",
        "\n",
        "playground_series_s5e6_path = kagglehub.competition_download('playground-series-s5e6')\n",
        "irakozekelly_fertilizer_prediction_path = kagglehub.dataset_download('irakozekelly/fertilizer-prediction')\n",
        "\n",
        "print('Data source import complete.')\n"
      ],
      "metadata": {
        "id": "jwXjuF8pJTVv"
      },
      "cell_type": "code",
      "outputs": [],
      "execution_count": null
    },
    {
      "cell_type": "code",
      "source": [
        "import pandas as pd"
      ],
      "metadata": {
        "id": "GY4fdQwPaYCP",
        "trusted": true,
        "execution": {
          "iopub.status.busy": "2025-07-26T06:02:47.564963Z",
          "iopub.execute_input": "2025-07-26T06:02:47.565356Z",
          "iopub.status.idle": "2025-07-26T06:02:50.891689Z",
          "shell.execute_reply.started": "2025-07-26T06:02:47.565303Z",
          "shell.execute_reply": "2025-07-26T06:02:50.889309Z"
        }
      },
      "outputs": [],
      "execution_count": null
    },
    {
      "cell_type": "code",
      "source": [
        "train_df=pd.read_csv('/kaggle/input/playground-series-s5e6/train.csv',index_col='id')"
      ],
      "metadata": {
        "id": "x7etatVkaLQI",
        "trusted": true,
        "execution": {
          "iopub.status.busy": "2025-07-26T05:59:03.310336Z",
          "iopub.execute_input": "2025-07-26T05:59:03.310995Z",
          "iopub.status.idle": "2025-07-26T05:59:04.543561Z",
          "shell.execute_reply.started": "2025-07-26T05:59:03.310966Z",
          "shell.execute_reply": "2025-07-26T05:59:04.542701Z"
        }
      },
      "outputs": [],
      "execution_count": null
    },
    {
      "cell_type": "code",
      "source": [
        "train_df"
      ],
      "metadata": {
        "id": "25PXXKvkaXZH",
        "trusted": true,
        "execution": {
          "iopub.status.busy": "2025-07-26T05:59:05.448751Z",
          "iopub.execute_input": "2025-07-26T05:59:05.449423Z",
          "iopub.status.idle": "2025-07-26T05:59:05.477109Z",
          "shell.execute_reply.started": "2025-07-26T05:59:05.449394Z",
          "shell.execute_reply": "2025-07-26T05:59:05.476122Z"
        }
      },
      "outputs": [],
      "execution_count": null
    },
    {
      "cell_type": "code",
      "source": [
        "train_df.columns.tolist()"
      ],
      "metadata": {
        "id": "WVKGg97hacN-",
        "trusted": true,
        "execution": {
          "iopub.status.busy": "2025-07-26T05:59:06.193528Z",
          "iopub.execute_input": "2025-07-26T05:59:06.194091Z",
          "iopub.status.idle": "2025-07-26T05:59:06.199769Z",
          "shell.execute_reply.started": "2025-07-26T05:59:06.194034Z",
          "shell.execute_reply": "2025-07-26T05:59:06.198889Z"
        }
      },
      "outputs": [],
      "execution_count": null
    },
    {
      "cell_type": "code",
      "source": [
        "train_df['Fertilizer Name'].value_counts()"
      ],
      "metadata": {
        "id": "Z-7npMqoahCO",
        "trusted": true,
        "execution": {
          "iopub.status.busy": "2025-07-26T05:59:06.429767Z",
          "iopub.execute_input": "2025-07-26T05:59:06.430524Z",
          "iopub.status.idle": "2025-07-26T05:59:06.494236Z",
          "shell.execute_reply.started": "2025-07-26T05:59:06.430496Z",
          "shell.execute_reply": "2025-07-26T05:59:06.493488Z"
        }
      },
      "outputs": [],
      "execution_count": null
    },
    {
      "cell_type": "code",
      "source": [
        "a=set(x for i in train_df['Fertilizer Name'].apply(lambda x:list(x.split(\" \"))) for x in i)"
      ],
      "metadata": {
        "id": "N_YsegVV7gmC",
        "trusted": true,
        "execution": {
          "iopub.status.busy": "2025-07-26T05:59:06.662095Z",
          "iopub.execute_input": "2025-07-26T05:59:06.663023Z",
          "iopub.status.idle": "2025-07-26T05:59:07.661019Z",
          "shell.execute_reply.started": "2025-07-26T05:59:06.662983Z",
          "shell.execute_reply": "2025-07-26T05:59:07.66028Z"
        }
      },
      "outputs": [],
      "execution_count": null
    },
    {
      "cell_type": "code",
      "source": [
        "a"
      ],
      "metadata": {
        "id": "qghYyeKjMO9l",
        "trusted": true,
        "execution": {
          "iopub.status.busy": "2025-07-26T05:59:07.662446Z",
          "iopub.execute_input": "2025-07-26T05:59:07.662756Z",
          "iopub.status.idle": "2025-07-26T05:59:07.668652Z",
          "shell.execute_reply.started": "2025-07-26T05:59:07.66273Z",
          "shell.execute_reply": "2025-07-26T05:59:07.667784Z"
        }
      },
      "outputs": [],
      "execution_count": null
    },
    {
      "cell_type": "code",
      "source": [
        "from lightgbm import LGBMClassifier,log_evaluation,early_stopping\n",
        "from sklearn.feature_selection import mutual_info_classif\n",
        "import numpy as np\n",
        "import seaborn as sns\n",
        "from sklearn.linear_model import LogisticRegression\n",
        "from sklearn.preprocessing import LabelEncoder\n",
        "from sklearn.model_selection import StratifiedKFold\n",
        "from xgboost import XGBClassifier\n",
        "from sklearn.base import clone\n",
        "import matplotlib.pyplot as plt\n",
        "import gc"
      ],
      "metadata": {
        "id": "c1QVa8oROjw5",
        "trusted": true,
        "execution": {
          "iopub.status.busy": "2025-07-26T05:59:07.669437Z",
          "iopub.execute_input": "2025-07-26T05:59:07.669716Z",
          "iopub.status.idle": "2025-07-26T05:59:15.925357Z",
          "shell.execute_reply.started": "2025-07-26T05:59:07.669696Z",
          "shell.execute_reply": "2025-07-26T05:59:15.924539Z"
        }
      },
      "outputs": [],
      "execution_count": null
    },
    {
      "cell_type": "code",
      "source": [
        "test_df=pd.read_csv('/kaggle/input/playground-series-s5e6/test.csv',index_col='id')\n",
        "O_df=pd.read_csv('/kaggle/input/fertilizer-prediction/Fertilizer Prediction.csv')"
      ],
      "metadata": {
        "id": "TCi_sJwu_KDj",
        "trusted": true,
        "execution": {
          "iopub.status.busy": "2025-07-26T05:59:15.927551Z",
          "iopub.execute_input": "2025-07-26T05:59:15.928Z",
          "iopub.status.idle": "2025-07-26T05:59:16.384273Z",
          "shell.execute_reply.started": "2025-07-26T05:59:15.927982Z",
          "shell.execute_reply": "2025-07-26T05:59:16.383393Z"
        }
      },
      "outputs": [],
      "execution_count": null
    },
    {
      "cell_type": "code",
      "source": [
        "O_df.info()"
      ],
      "metadata": {
        "id": "mg7lLr5EDLen",
        "trusted": true,
        "execution": {
          "iopub.status.busy": "2025-07-26T05:59:16.385194Z",
          "iopub.execute_input": "2025-07-26T05:59:16.385406Z",
          "iopub.status.idle": "2025-07-26T05:59:16.422339Z",
          "shell.execute_reply.started": "2025-07-26T05:59:16.38539Z",
          "shell.execute_reply": "2025-07-26T05:59:16.421312Z"
        }
      },
      "outputs": [],
      "execution_count": null
    },
    {
      "cell_type": "code",
      "source": [
        "target='Fertilizer Name'\n",
        "n_folds=5\n",
        "seed=42"
      ],
      "metadata": {
        "id": "Tdh5i_7m_imL",
        "trusted": true,
        "execution": {
          "iopub.status.busy": "2025-07-26T05:59:16.423259Z",
          "iopub.execute_input": "2025-07-26T05:59:16.423479Z",
          "iopub.status.idle": "2025-07-26T05:59:16.42807Z",
          "shell.execute_reply.started": "2025-07-26T05:59:16.423458Z",
          "shell.execute_reply": "2025-07-26T05:59:16.426962Z"
        }
      },
      "outputs": [],
      "execution_count": null
    },
    {
      "cell_type": "code",
      "source": [
        "train_df.columns"
      ],
      "metadata": {
        "id": "LDn5AW6wee4W",
        "trusted": true,
        "execution": {
          "iopub.status.busy": "2025-07-26T05:59:16.429577Z",
          "iopub.execute_input": "2025-07-26T05:59:16.429853Z",
          "iopub.status.idle": "2025-07-26T05:59:16.443506Z",
          "shell.execute_reply.started": "2025-07-26T05:59:16.429823Z",
          "shell.execute_reply": "2025-07-26T05:59:16.442717Z"
        }
      },
      "outputs": [],
      "execution_count": null
    },
    {
      "cell_type": "code",
      "source": [
        "features=test_df.columns.tolist()\n",
        "train_df[features]=train_df[features].astype('str').astype('category')\n",
        "test_df[features]=test_df[features].astype('str').astype('category')\n",
        "O_df[features]=O_df[features].astype('str').astype('category')\n",
        "\n",
        "le=LabelEncoder()\n",
        "train_df[target]=le.fit_transform(train_df[target])\n",
        "O_df[target]=le.transform(O_df[target])\n",
        "\n",
        "X=train_df.drop(['Fertilizer Name'],axis=1)\n",
        "y=train_df[target]\n",
        "X_orig=O_df.drop([target],axis=1)\n",
        "y_orig=O_df[target]\n",
        "X_test=test_df"
      ],
      "metadata": {
        "id": "CBXRrAvl_yeL",
        "trusted": true,
        "execution": {
          "iopub.status.busy": "2025-07-26T05:59:17.747164Z",
          "iopub.execute_input": "2025-07-26T05:59:17.747474Z",
          "iopub.status.idle": "2025-07-26T05:59:20.286755Z",
          "shell.execute_reply.started": "2025-07-26T05:59:17.747451Z",
          "shell.execute_reply": "2025-07-26T05:59:20.286082Z"
        }
      },
      "outputs": [],
      "execution_count": null
    },
    {
      "cell_type": "code",
      "source": [
        "X_info=mutual_info_classif(X,y,random_state=seed,discrete_features=True)\n",
        "X_info=pd.Series(X_info)\n",
        "X_info.index=X.columns\n",
        "X_info=pd.DataFrame(X_info.sort_values(ascending=False),columns=['Mutual Information'])\n",
        "X_info.style.bar(subset=['Mutual Information'],cmap=\"RdYlGn\")"
      ],
      "metadata": {
        "id": "hkcMnWSIeVg2",
        "trusted": true,
        "execution": {
          "iopub.status.busy": "2025-07-26T05:59:28.677565Z",
          "iopub.execute_input": "2025-07-26T05:59:28.678473Z",
          "iopub.status.idle": "2025-07-26T05:59:38.371002Z",
          "shell.execute_reply.started": "2025-07-26T05:59:28.678429Z",
          "shell.execute_reply": "2025-07-26T05:59:38.370254Z"
        }
      },
      "outputs": [],
      "execution_count": null
    },
    {
      "cell_type": "code",
      "source": [
        "X_info=mutual_info_classif(X_orig,y_orig,random_state=seed,discrete_features=True)\n",
        "X_info=pd.Series(X_info)\n",
        "X_info.index=X.columns\n",
        "X_info=pd.DataFrame(X_info.sort_values(ascending=False),columns=['Mutual Information'])\n",
        "X_info.style.bar(subset=['Mutual Information'],cmap=\"RdYlGn\")"
      ],
      "metadata": {
        "id": "RXGn54_rg_Q3",
        "trusted": true,
        "execution": {
          "iopub.status.busy": "2025-07-26T05:59:38.372462Z",
          "iopub.execute_input": "2025-07-26T05:59:38.37274Z",
          "iopub.status.idle": "2025-07-26T05:59:39.406756Z",
          "shell.execute_reply.started": "2025-07-26T05:59:38.372721Z",
          "shell.execute_reply": "2025-07-26T05:59:39.405833Z"
        }
      },
      "outputs": [],
      "execution_count": null
    },
    {
      "cell_type": "code",
      "source": [
        "def map3(y_true, y_pred_probs):\n",
        "    y_true = [[x] for x in y_true]\n",
        "    y_pred_probs = np.argsort(y_pred_probs, axis=1)[:, -3:][:, ::-1].tolist()\n",
        "\n",
        "    def ap3(y_true, y_pred_probs):\n",
        "        y_pred_probs = y_pred_probs[:3]\n",
        "\n",
        "        score = 0.0\n",
        "        num_hits = 0.0\n",
        "\n",
        "        for i,p in enumerate(y_pred_probs):\n",
        "            if p in y_true and p not in y_pred_probs[:i]:\n",
        "                num_hits += 1.0\n",
        "                score += num_hits / (i+1.0)\n",
        "\n",
        "        if not y_true:\n",
        "            return 0.0\n",
        "\n",
        "        return score\n",
        "\n",
        "    return np.mean([ap3(a,p) for a,p in zip(y_true, y_pred_probs)])"
      ],
      "metadata": {
        "id": "xoCst52dkC9Y",
        "trusted": true,
        "execution": {
          "iopub.status.busy": "2025-07-26T05:59:39.407616Z",
          "iopub.execute_input": "2025-07-26T05:59:39.407907Z",
          "iopub.status.idle": "2025-07-26T05:59:39.414019Z",
          "shell.execute_reply.started": "2025-07-26T05:59:39.407889Z",
          "shell.execute_reply": "2025-07-26T05:59:39.413224Z"
        }
      },
      "outputs": [],
      "execution_count": null
    },
    {
      "cell_type": "code",
      "source": [
        "class Trainer:\n",
        "    def __init__(self, model):\n",
        "        self.model = model\n",
        "\n",
        "\n",
        "    def fit_predict(self, X, y, X_test, X_original=None, y_original=None, fit_args={}):\n",
        "        print(f\"Training {self.model.__class__.__name__}\\n\")\n",
        "\n",
        "        scores = []\n",
        "        oof_pred_probs = np.zeros((X.shape[0], 7))\n",
        "        test_pred_probs = np.zeros((X_test.shape[0], 7))\n",
        "\n",
        "        skf = StratifiedKFold(n_splits=n_folds, random_state=seed, shuffle=True)\n",
        "        for fold_idx, (train_idx, val_idx) in enumerate(skf.split(X, y)):\n",
        "            X_train, X_val = X.iloc[train_idx], X.iloc[val_idx]\n",
        "            y_train, y_val = y[train_idx], y[val_idx]\n",
        "\n",
        "            if X_original is not None and y_original is not None:\n",
        "                X_train = pd.concat([X_train, X_original])\n",
        "                y_train = pd.concat([y_train, y_original])\n",
        "\n",
        "            model = clone(self.model)\n",
        "\n",
        "            if fit_args:\n",
        "                model.fit(X_train, y_train, **fit_args, eval_set=[(X_val, y_val)])\n",
        "            else:\n",
        "                model.fit(X_train, y_train)\n",
        "\n",
        "            y_pred_probs = model.predict_proba(X_val)\n",
        "            oof_pred_probs[val_idx] = y_pred_probs\n",
        "\n",
        "            temp_test_pred_probs = model.predict_proba(X_test)\n",
        "            test_pred_probs += temp_test_pred_probs / n_folds\n",
        "\n",
        "            score = map3(y_val, y_pred_probs)\n",
        "            scores.append(score)\n",
        "\n",
        "            del model, X_train, y_train, X_val, y_val, y_pred_probs\n",
        "            gc.collect()\n",
        "\n",
        "            if fit_args:\n",
        "                print(f\"\\n--- Fold {fold_idx + 1} - MAP@3: {score:.6f}\\n\\n\")\n",
        "            else:\n",
        "                print(f\"--- Fold {fold_idx + 1} - MAP@3: {score:.6f}\")\n",
        "\n",
        "        overall_score = map3(y, oof_pred_probs)\n",
        "\n",
        "        print(f\"\\n------ Overall MAP@3: {overall_score:.6f} | Average MAP@3: {np.mean(scores):.6f} ± {np.std(scores):.6f}\")\n",
        "\n",
        "        return oof_pred_probs, test_pred_probs, scores\n",
        "\n",
        "    def tune(self, X, y):\n",
        "        scores = []\n",
        "\n",
        "        skf = StratifiedKFold(n_splits=n_folds, random_state=seed, shuffle=True)\n",
        "        for fold_idx, (train_idx, val_idx) in enumerate(skf.split(X, y)):\n",
        "            X_train, X_val = X.iloc[train_idx], X.iloc[val_idx]\n",
        "            y_train, y_val = y[train_idx], y[val_idx]\n",
        "\n",
        "            model = clone(self.model)\n",
        "            model.fit(X_train, y_train)\n",
        "\n",
        "            y_pred_probs = model.predict_proba(X_val)\n",
        "            score = map3(y_val, y_pred_probs)\n",
        "            scores.append(score)\n",
        "\n",
        "            del model, X_train, y_train, X_val, y_val, y_pred_probs\n",
        "            gc.collect()\n",
        "\n",
        "        return np.mean(scores)"
      ],
      "metadata": {
        "trusted": true,
        "execution": {
          "iopub.status.busy": "2025-07-26T04:04:58.494006Z",
          "iopub.execute_input": "2025-07-26T04:04:58.494582Z",
          "iopub.status.idle": "2025-07-26T04:04:58.503599Z",
          "shell.execute_reply.started": "2025-07-26T04:04:58.494543Z",
          "shell.execute_reply": "2025-07-26T04:04:58.502998Z"
        },
        "id": "HbPfSjsLJTWB"
      },
      "outputs": [],
      "execution_count": null
    },
    {
      "cell_type": "code",
      "source": [
        "scores={}\n",
        "oof_pred_probs={}\n",
        "test_pred_probs={}"
      ],
      "metadata": {
        "id": "OhvkAUS_WYld",
        "trusted": true,
        "execution": {
          "iopub.status.busy": "2025-07-26T05:59:39.415475Z",
          "iopub.execute_input": "2025-07-26T05:59:39.415739Z",
          "iopub.status.idle": "2025-07-26T05:59:39.430169Z",
          "shell.execute_reply.started": "2025-07-26T05:59:39.415715Z",
          "shell.execute_reply": "2025-07-26T05:59:39.429246Z"
        }
      },
      "outputs": [],
      "execution_count": null
    },
    {
      "cell_type": "code",
      "source": [
        "lgbm_params={\n",
        "  \"boosting_type\":\"gbdt\",\n",
        "  \"device\":\"gpu\",\n",
        "  \"colsample_bytree\":0.4366677273946288,\n",
        "  \"learning_rate\":0.016164161953515117,\n",
        "  \"max_depth\":12,\n",
        "  \"min_child_samples\":67,\n",
        "  \"n_estimators\":10000,\n",
        "  \"n_jobs\":-1,\n",
        "  \"num_leaves\":243,\n",
        "  \"random_state\":42,\n",
        "  \"reg_alpha\":6.38288560443373,\n",
        "  \"reg_lambda\":9.392999314379155,\n",
        "  \"subsample\":0.7989164499431718,\n",
        "  \"verbose\":-1\n",
        "}\n",
        "\n",
        "lgbm_goss_params={\n",
        "    \"boosting_type\":\"goss\",\n",
        "    \"device\":\"gpu\",\n",
        "    \"colsample_bytree\":0.32751831793031183,\n",
        "    \"learning_rate\":0.006700715059604966,\n",
        "    \"max_depth\":12,\n",
        "    \"min_child_samples\":84,\n",
        "    \"n_estimators\":10000,\n",
        "    \"n_jobs\":-1,\n",
        "    \"num_leaves\":229,\n",
        "    \"random_state\":42,\n",
        "    \"reg_alpha\":6.879977008084246,\n",
        "    \"reg_lambda\":4.739518466581721,\n",
        "    \"subsample\":0.5411572049978781,\n",
        "    \"verbose\":-1\n",
        "}\n",
        "\n",
        "xgb_params={\n",
        "   \"device\":\"gpu\",\n",
        "   \"max_depth\":12,\n",
        "   \"colsample_bytree\":0.467,\n",
        "   \"subsample\":0.86,\n",
        "   \"n_estimators\":10000,\n",
        "   \"learning_rate\":0.03,\n",
        "   \"gamma\":0.26,\n",
        "   \"max_delta_step\":4,\n",
        "   \"reg_alpha\":2.7,\n",
        "   \"reg_lambda\":1.4,\n",
        "   \"early_stopping_rounds\":100,\n",
        "   \"objective\":'multi:softprob',\n",
        "   \"random_state\":13,\n",
        "   \"enable_categorical\":True\n",
        "}"
      ],
      "metadata": {
        "id": "_-lBu06rWup5",
        "trusted": true,
        "execution": {
          "iopub.status.busy": "2025-07-26T04:05:06.262089Z",
          "iopub.execute_input": "2025-07-26T04:05:06.262347Z",
          "iopub.status.idle": "2025-07-26T04:05:06.268073Z",
          "shell.execute_reply.started": "2025-07-26T04:05:06.262327Z",
          "shell.execute_reply": "2025-07-26T04:05:06.267317Z"
        }
      },
      "outputs": [],
      "execution_count": null
    },
    {
      "cell_type": "code",
      "source": [
        "lgbm_model = LGBMClassifier(**lgbm_params)\n",
        "lgbm_trainer = Trainer(lgbm_model)\n",
        "\n",
        "fit_args = {\n",
        "    \"callbacks\": [\n",
        "        log_evaluation(period=1000),\n",
        "        early_stopping(stopping_rounds=100)\n",
        "    ]\n",
        "}\n",
        "\n",
        "oof_pred_probs[\"LightGBM (gbdt)\"], test_pred_probs[\"LightGBM (gbdt)\"], scores[\"LightGBM (gbdt)\"] = lgbm_trainer.fit_predict(X, y, X_test, X_orig, y_orig, fit_args)"
      ],
      "metadata": {
        "trusted": true,
        "execution": {
          "iopub.status.busy": "2025-07-23T23:06:09.065456Z",
          "iopub.execute_input": "2025-07-23T23:06:09.066201Z",
          "iopub.status.idle": "2025-07-24T01:40:09.882121Z",
          "shell.execute_reply.started": "2025-07-23T23:06:09.066176Z",
          "shell.execute_reply": "2025-07-24T01:40:09.881453Z"
        },
        "id": "JpQ10OPBJTWE"
      },
      "outputs": [],
      "execution_count": null
    },
    {
      "cell_type": "code",
      "source": [
        "print(oof_pred_probs)"
      ],
      "metadata": {
        "trusted": true,
        "execution": {
          "execution_failed": "2025-07-24T05:08:26.414Z"
        },
        "id": "r8vKZ757JTWE"
      },
      "outputs": [],
      "execution_count": null
    },
    {
      "cell_type": "code",
      "source": [
        "lgbm_goss_model=LGBMClassifier(**lgbm_goss_params)\n",
        "lgbm_trainer=Trainer(lgbm_goss_model)\n",
        "fit_args={\n",
        "    \"callbacks\":[\n",
        "        early_stopping(stopping_rounds=100),\n",
        "        log_evaluation(period=1000)\n",
        "    ]\n",
        "}\n",
        "oof_pred_probs['LightGBM(goss)'],test_pred_probs['LightGBM(goss)'],scores['LightGBM(goss)']=lgbm_trainer.fit_predict(X,y,X_test,X_orig,y_orig,fit_args)"
      ],
      "metadata": {
        "trusted": true,
        "id": "AkNtOvyyJTWF"
      },
      "outputs": [],
      "execution_count": null
    },
    {
      "cell_type": "code",
      "source": [
        "xgb_model = XGBClassifier(**xgb_params)\n",
        "xgb_trainer = Trainer(xgb_model)\n",
        "\n",
        "fit_args = {\n",
        "    \"verbose\": 1000\n",
        "}\n",
        "\n",
        "oof_pred_probs[\"XGBoost\"], test_pred_probs[\"XGBoost\"], scores[\"XGBoost\"] = xgb_trainer.fit_predict(X, y, X_test, X_orig, y_orig, fit_args)"
      ],
      "metadata": {
        "id": "nmAtLxK-8yYF"
      },
      "outputs": [],
      "execution_count": null
    },
    {
      "cell_type": "code",
      "source": [
        "import pickle\n",
        "import joblib\n",
        "\n",
        "with open('/kaggle/working/result.pkl','wb') as f:\n",
        "    pickle.dump({'c1':oof_pred_probs,'c2':test_pred_probs,'c3':scores},f)"
      ],
      "metadata": {
        "trusted": true,
        "execution": {
          "iopub.status.busy": "2025-07-26T06:01:03.676498Z",
          "iopub.execute_input": "2025-07-26T06:01:03.676777Z",
          "iopub.status.idle": "2025-07-26T06:01:03.681901Z",
          "shell.execute_reply.started": "2025-07-26T06:01:03.676759Z",
          "shell.execute_reply": "2025-07-26T06:01:03.681243Z"
        },
        "id": "viTpX43BJTWG"
      },
      "outputs": [],
      "execution_count": null
    },
    {
      "cell_type": "code",
      "source": [
        "X=pd.DataFrame(np.concatenate(list(oof_pred_probs.values()),axis=1))\n",
        "X_test=pd.DataFrame(np.concatenate(list(test_pred_probs.values()),axis=1))"
      ],
      "metadata": {
        "id": "j4qhcx55h5vB"
      },
      "outputs": [],
      "execution_count": null
    },
    {
      "cell_type": "code",
      "source": [
        "lr_model=LogisticRegression(random_state=42,max_iter=10000,solver='liblinear',penalty='l2',\n",
        "                            C=32.89802104596641,\n",
        "                            tol=0.0029878837974181643,\n",
        "                            fit_intercept=True)\n",
        "lr_trainer=Trainer(lr_model)\n",
        "_,lr_test_pred_probs,scores['Ensemble']=lr_trainer.fit_predict(X,y,X_test)"
      ],
      "metadata": {
        "id": "QW5sT21Imn5i"
      },
      "outputs": [],
      "execution_count": null
    },
    {
      "cell_type": "code",
      "source": [
        "final_predictions=[]\n",
        "for i in np.argsort(lr_test_pred_probs)[:,-3:][:,::-1]:\n",
        "  prediction=le.inverse_transform(i)\n",
        "  final_predictions.append(\" \".join(prediction))"
      ],
      "metadata": {
        "id": "yMr6shPKvBIi"
      },
      "outputs": [],
      "execution_count": null
    },
    {
      "cell_type": "code",
      "source": [
        "sub=pd.read_csv('/kaggle/input/playground-series-s5e6/sample_submission.csv')\n",
        "sub[target]=final_predictions\n",
        "sub.to_csv(f'sub_logistic_regression_{np.mean(scores['Ensemble']):.6f}.csv',index=False)"
      ],
      "metadata": {
        "id": "yO94bTZswY9m"
      },
      "outputs": [],
      "execution_count": null
    },
    {
      "cell_type": "code",
      "source": [
        "scores = pd.DataFrame(scores)\n",
        "mean_scores = scores.mean().sort_values(ascending=False)\n",
        "order = scores.mean().sort_values(ascending=False).index.tolist()\n",
        "\n",
        "min_score = mean_scores.min()\n",
        "max_score = mean_scores.max()\n",
        "\n",
        "padding = (max_score - min_score) * 0.5\n",
        "lower_limit = min_score - padding\n",
        "upper_limit = max_score + padding\n",
        "\n",
        "fig, axs = plt.subplots(1, 2, figsize=(15, scores.shape[1] * 0.4))\n",
        "\n",
        "boxplot = sns.boxplot(data=scores, order=order, ax=axs[0], orient=\"h\", color=\"grey\")\n",
        "axs[0].set_title(f\"Fold MAP@3\")\n",
        "axs[0].set_xlabel(\"\")\n",
        "axs[0].set_ylabel(\"\")\n",
        "\n",
        "barplot = sns.barplot(x=mean_scores.values, y=mean_scores.index, ax=axs[1], color=\"grey\")\n",
        "axs[1].set_title(f\"Mean MAP@3\")\n",
        "axs[1].set_xlabel(\"\")\n",
        "axs[1].set_xlim(left=lower_limit, right=upper_limit)\n",
        "axs[1].set_ylabel(\"\")\n",
        "\n",
        "for i, (score, model) in enumerate(zip(mean_scores.values, mean_scores.index)):\n",
        "    color = \"cyan\" if \"ensemble\" in model.lower() else \"grey\"\n",
        "    barplot.patches[i].set_facecolor(color)\n",
        "    boxplot.patches[i].set_facecolor(color)\n",
        "    barplot.text(score, i, round(score, 6), va=\"center\")\n",
        "\n",
        "plt.tight_layout()\n",
        "plt.show()"
      ],
      "metadata": {
        "id": "SyRtrvkA0Flv"
      },
      "outputs": [],
      "execution_count": null
    }
  ]
}